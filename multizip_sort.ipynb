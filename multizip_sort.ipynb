import math
import time

def split(listas_y):
    novas_listas_z = []
    for y_list in listas_y:
        y_len = len(y_list)
        meio = math.ceil(y_len / 2) 
        
        novas_listas_z.append(y_list[:meio])
        novas_listas_z.append(y_list[meio:])
        
    return novas_listas_z

def multizip_merge(listas_y):
    """
    Mescla listas ordenadas em pares (Y1 com Y2, Y3 com Y4, etc.)
    Mescla todos os pares em 'paralelo' ao invés de completar uma mesclagem antes de começar a próxima.
    """
    resultados_mesclados = []
    for i in range(0, len(listas_y), 2):
        lista1 = listas_y[i]
        lista2 = listas_y[i+1]
        
        merged_list = []
        ptr1, ptr2 = 0, 0

        while ptr1 < len(lista1) and ptr2 < len(lista2):
            if lista1[ptr1] <= lista2[ptr2]:
                merged_list.append(lista1[ptr1])
                ptr1 += 1
            else:
                merged_list.append(lista2[ptr2])
                ptr2 += 1
        
        merged_list.extend(lista1[ptr1:])
        merged_list.extend(lista2[ptr2:])
        
        resultados_mesclados.append(merged_list)
    
    return resultados_mesclados

def multizip_sort(x):
    y_lists = [x]
    num_lists = 1

    """
    Fase de Divisão (Split)
    Continua dividindo até que todas as sublistas tenham tamanho <= 1
    """
    while any(len(lst) > 1 for lst in y_lists):
        y_lists = split(y_lists)
        num_lists *= 2 
    
    while num_lists > 1:
        y_lists = multizip_merge(y_lists)
        num_lists //= 2
    
    return y_lists[0]

lista_8_numeros = [7, 2, 9, 1, 5, 8, 3, 4]
print(f"Lista original: {lista_8_numeros}")
start_time = time.perf_counter() 
lista_ordenada = multizip_sort(lista_8_numeros)
end_time = time.perf_counter()  
print(f"Lista ordenada: {lista_ordenada}")

print("--- Outro exemplo ---")
outra_lista = [100, 50, 75, 25, 90, 10, 5, 30]

print(f"Lista original: {outra_lista}")
start_time = time.perf_counter()
lista_ordenada2 = multizip_sort(outra_lista)
end_time = time.perf_counter()
print(f"Lista ordenada: {lista_ordenada2}")
print(f"Tempo de ordenação: {end_time - start_time:.6f} segundos\n")

print("--- Exemplo com número diferente de elementos (não 8) ---")
lista_qualquer = [64, 34, 25, 12, 22, 11, 90, 1, 99, 88, 77, 66, 55]
print(f"Lista original: {lista_qualquer}")
start_time = time.perf_counter()
lista_ordenada3 = multizip_sort(lista_qualquer)
end_time = time.perf_counter()
print(f"Lista ordenada: {lista_ordenada3}")
print(f"Tempo de ordenação: {end_time - start_time:.6f} segundos")
