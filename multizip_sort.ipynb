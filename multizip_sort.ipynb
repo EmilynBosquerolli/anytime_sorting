import math
import time
import random

def split(listas_y):
    novas_listas_z = []
    for y_list in listas_y:
        y_len = len(y_list)
        meio = math.ceil(y_len / 2)
        
        novas_listas_z.append(y_list[:meio])
        novas_listas_z.append(y_list[meio:])
        
    return novas_listas_z

def multizip_merge(listas_y):
    resultados_mesclados = []
    num_pares = len(listas_y) // 2
    for i in range(num_pares):
        lista1 = listas_y[i*2]
        lista2 = listas_y[i*2 + 1]
        
        merged_list = []
        ptr1, ptr2 = 0, 0

        while ptr1 < len(lista1) and ptr2 < len(lista2):
            if lista1[ptr1] <= lista2[ptr2]:
                merged_list.append(lista1[ptr1])
                ptr1 += 1
            else:
                merged_list.append(lista2[ptr2])
                ptr2 += 1
        
        merged_list.extend(lista1[ptr1:])
        merged_list.extend(lista2[ptr2:])
        
        resultados_mesclados.append(merged_list)
    
    if len(listas_y) % 2 != 0:
        resultados_mesclados.append(listas_y[-1])
            
    return resultados_mesclados

def multizip_sort(x):
    if not isinstance(x, list):
        raise TypeError("A entrada para multizip_sort deve ser uma lista.")

    y_lists = [x]
    
    ## Continua dividindo até que todas as sublistas tenham tamanho <= 1
    while any(len(lst) > 1 for lst in y_lists):
        y_lists = split(y_lists)
    
    ## Mescla as sublistas de volta até ter apenas uma lista ordenada
    while len(y_lists) > 1:
        y_lists = multizip_merge(y_lists)
    
    return y_lists[0]

todas_as_listas = []
for i in range(5):
    lista_aleatoria = [random.randint(0, 1000) for _ in range(100)]
    todas_as_listas.append(lista_aleatoria)

print("\n--- Ordenando e comparando o tempo de cada lista ---")
tempos_ordenacao = []
for i, lista in enumerate(todas_as_listas):
    
    start_time = time.perf_counter() # Marca o tempo de início
    lista_ordenada = multizip_sort(lista) # Chama sua função de ordenação
    end_time = time.perf_counter()   # Marca o tempo de fim
    tempo_gasto = end_time - start_time
    tempos_ordenacao.append(tempo_gasto)
    
    print(f"\nLista {i+1} ordenada: {lista_ordenada[:100]}...")

for i, tempo in enumerate(tempos_ordenacao):
    print(f"Tempo da Lista {i+1}: {tempo:.6f} segundos")

if tempos_ordenacao:
    min_time = min(tempos_ordenacao)
    min_index = tempos_ordenacao.index(min_time)
    print(f"\n**A lista que foi ordenada mais rapidamente é a Lista {min_index + 1} com um tempo de {min_time:.6f} segundos.**")
else:
    print("Nenhuma lista foi processada para comparação de tempo.")
